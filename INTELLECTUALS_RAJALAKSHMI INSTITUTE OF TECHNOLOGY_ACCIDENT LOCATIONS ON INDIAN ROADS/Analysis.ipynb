{
  "cells": [
    {
      "cell_type": "code",
      "execution_count": 26,
      "metadata": {
        "id": "sskPJMw2XfSR"
      },
      "outputs": [],
      "source": [
        "import pandas as pd\n",
        "import matplotlib.pyplot as plt"
      ]
    },
    {
      "cell_type": "code",
      "execution_count": null,
      "metadata": {
        "id": "3HKnI2kNbHPB"
      },
      "outputs": [],
      "source": [
        "df_age=pd.read_csv('INTELLECTUALS_RAJALAKSHMI INSTITUTE OF TECHNOLOGY_ACCIDENT LOCATIONS ON INDIAN ROADS\\data\\Age_data.csv')\n",
        "df_gender=pd.read_csv('INTELLECTUALS_RAJALAKSHMI INSTITUTE OF TECHNOLOGY_ACCIDENT LOCATIONS ON INDIAN ROADS\\data\\Gender_data.csv')"
      ]
    },
    {
      "cell_type": "markdown",
      "metadata": {
        "id": "zEKXR-CNgNAA"
      },
      "source": [
        "Preprocessing"
      ]
    },
    {
      "cell_type": "code",
      "execution_count": null,
      "metadata": {
        "id": "0H68ARS0bSKJ"
      },
      "outputs": [],
      "source": [
        "df_age"
      ]
    },
    {
      "cell_type": "code",
      "execution_count": 30,
      "metadata": {
        "id": "kUg8fLhDbtsv"
      },
      "outputs": [],
      "source": [
        "df_age.dropna(inplace=True)"
      ]
    },
    {
      "cell_type": "code",
      "execution_count": 31,
      "metadata": {
        "id": "YdHhO8z4dATG"
      },
      "outputs": [],
      "source": [
        "df_age.drop(df_age[df_age['Age-Group'] == 'Total'].index, inplace=True)"
      ]
    },
    {
      "cell_type": "code",
      "execution_count": 32,
      "metadata": {
        "id": "5bKsWplCdsIG"
      },
      "outputs": [],
      "source": [
        "df_age.rename(columns={'Age-Group': 'Age_Group','Number of Persons Killed - 2016':'Death_2016','Number of Persons Killed - 2017':'Death_2017','Number of Persons Killed - 2018':'Death_2018'}, inplace=True)"
      ]
    },
    {
      "cell_type": "code",
      "execution_count": 33,
      "metadata": {
        "id": "QSTn1-xLeG0n"
      },
      "outputs": [],
      "source": [
        "df_age.drop(['%-Age Change in 2016 over 2017','%-Age Change in 2018 over 2017'],axis=1,inplace=True)"
      ]
    },
    {
      "cell_type": "code",
      "execution_count": null,
      "metadata": {
        "collapsed": true,
        "id": "8MLDAnSweVDr"
      },
      "outputs": [],
      "source": [
        "df_age"
      ]
    },
    {
      "cell_type": "code",
      "execution_count": null,
      "metadata": {
        "id": "MayfRmb8bUof"
      },
      "outputs": [],
      "source": [
        "df_gender"
      ]
    },
    {
      "cell_type": "code",
      "execution_count": 16,
      "metadata": {
        "id": "DncjS5ufea96"
      },
      "outputs": [],
      "source": [
        "df_gender.dropna(inplace=True)"
      ]
    },
    {
      "cell_type": "code",
      "execution_count": 18,
      "metadata": {
        "id": "xc_MakCOegR5"
      },
      "outputs": [],
      "source": [
        "df_gender.drop(df_gender[df_gender['Age-Group'] == 'Total'].index, inplace=True)"
      ]
    },
    {
      "cell_type": "code",
      "execution_count": 19,
      "metadata": {
        "id": "NDy0fs-6enLq"
      },
      "outputs": [],
      "source": [
        "df_gender.drop(['%-Age Change in 2016 over 2017 - Male',\t'%-Age Change in 2016 over 2017 - Female'\t,'%-Age Change in 2018 over 2017 - Male',\t'%-Age Change in 2018 over 2017 - Female'],axis=1,inplace=True)"
      ]
    },
    {
      "cell_type": "code",
      "execution_count": 39,
      "metadata": {
        "id": "0BcBzX-PgsNY"
      },
      "outputs": [],
      "source": [
        "df_gender.rename(columns={'Age-Group':'Age_Group', '2016 - Male':'2016_Male', '2016 - Female':'2016_Female', '2017 - Male':'2017_Male','2017 - Female':'2017_Female', '2018 - Male':'2018_Male', '2018 - Female':'2018_Female'},inplace=True)"
      ]
    },
    {
      "cell_type": "code",
      "execution_count": null,
      "metadata": {
        "id": "na5bonOlfBEg"
      },
      "outputs": [],
      "source": [
        "df_gender"
      ]
    },
    {
      "cell_type": "code",
      "execution_count": 21,
      "metadata": {
        "colab": {
          "base_uri": "https://localhost:8080/"
        },
        "id": "ZIzMjkKbfC8u",
        "outputId": "bfeed278-b870-48d5-9fab-9cd28cce59f2"
      },
      "outputs": [
        {
          "data": {
            "text/plain": [
              "Index(['Age_Group', 'Death_2016', 'Death_2017', 'Death_2028'], dtype='object')"
            ]
          },
          "execution_count": 21,
          "metadata": {},
          "output_type": "execute_result"
        }
      ],
      "source": [
        "df_age.columns"
      ]
    },
    {
      "cell_type": "code",
      "execution_count": 40,
      "metadata": {
        "colab": {
          "base_uri": "https://localhost:8080/"
        },
        "id": "CdxC-fX6fGhB",
        "outputId": "4e6e6ea2-80b4-407b-d42e-18e058948386"
      },
      "outputs": [
        {
          "data": {
            "text/plain": [
              "Index(['Age_Group', '2016_Male', '2016_Female', '2017_Male', '2017_Female',\n",
              "       '2018_Male', '2018_Female'],\n",
              "      dtype='object')"
            ]
          },
          "execution_count": 40,
          "metadata": {},
          "output_type": "execute_result"
        }
      ],
      "source": [
        "df_gender.columns"
      ]
    },
    {
      "cell_type": "markdown",
      "metadata": {
        "id": "syO5t6tpgO_o"
      },
      "source": [
        "Analysis By Age"
      ]
    },
    {
      "cell_type": "code",
      "execution_count": null,
      "metadata": {
        "id": "JB0vtQAifIWj"
      },
      "outputs": [],
      "source": [
        "df_age['Total_Deaths'] = df_age[['Death_2016', 'Death_2017', 'Death_2018']].sum(axis=1)\n",
        "\n",
        "print(\"Total deaths by Age Group:\\n\", df_age[['Age_Group', 'Total_Deaths']], \"\\n\")\n",
        "\n",
        "plt.figure(figsize=(10,5))\n",
        "plt.bar(df_age['Age_Group'], df_age['Total_Deaths'], color='tomato')\n",
        "plt.title(\"Total Road Accident Deaths by Age Group (2016–2018) - Tamil Nadu\")\n",
        "plt.xlabel(\"Age Group\")\n",
        "plt.ylabel(\"Total Deaths\")\n",
        "plt.xticks(rotation=45)\n",
        "plt.tight_layout()\n",
        "plt.show()"
      ]
    },
    {
      "cell_type": "markdown",
      "metadata": {
        "id": "HNYqwwurgcYT"
      },
      "source": [
        "Analysis By Gender"
      ]
    },
    {
      "cell_type": "code",
      "execution_count": null,
      "metadata": {
        "id": "RGEpJJoWgewS"
      },
      "outputs": [],
      "source": [
        "gender_summary = {\n",
        "    'Male': df_gender[['2016_Male', '2017_Male', '2018_Male']].sum().sum(),\n",
        "    'Female': df_gender[['2016_Female', '2017_Female', '2018_Female']].sum().sum()\n",
        "}\n",
        "\n",
        "gender_df = pd.DataFrame(list(gender_summary.items()), columns=['Gender', 'Total_Deaths'])\n",
        "print(\"Total deaths by Gender:\\n\", gender_df, \"\\n\")\n",
        "\n",
        "plt.figure(figsize=(5,5))\n",
        "plt.pie(gender_df['Total_Deaths'], labels=gender_df['Gender'], autopct='%1.1f%%', startangle=140, colors=['steelblue', 'lightcoral'])\n",
        "plt.title(\"Road Accident Deaths by Gender (2016–2018) - Tamil Nadu\")\n",
        "plt.show()"
      ]
    },
    {
      "cell_type": "markdown",
      "metadata": {
        "id": "Ph4bZe41hmPf"
      },
      "source": [
        "Trend Over Years"
      ]
    },
    {
      "cell_type": "code",
      "execution_count": null,
      "metadata": {
        "id": "JYsafGdshgb7"
      },
      "outputs": [],
      "source": [
        "yearly_totals = {\n",
        "    '2016': df_age['Death_2016'].sum(),\n",
        "    '2017': df_age['Death_2017'].sum(),\n",
        "    '2018': df_age['Death_2018'].sum()\n",
        "}\n",
        "\n",
        "plt.figure(figsize=(8,5))\n",
        "plt.plot(yearly_totals.keys(), yearly_totals.values(), marker='o', color='darkorange')\n",
        "plt.title(\"Trend of Road Accident Deaths in Tamil Nadu (2016–2018)\")\n",
        "plt.xlabel(\"Year\")\n",
        "plt.ylabel(\"Total Deaths\")\n",
        "plt.grid(True)\n",
        "plt.show()"
      ]
    },
    {
      "cell_type": "markdown",
      "metadata": {
        "id": "OFh8X6u6huwJ"
      },
      "source": [
        "Combined Insights"
      ]
    },
    {
      "cell_type": "code",
      "execution_count": null,
      "metadata": {
        "id": "8k_-f4PQhrJy"
      },
      "outputs": [],
      "source": [
        "df_gender['Total_2018'] = df_gender['2018_Male'] + df_gender['2018_Female']\n",
        "df_gender['Male_%_2018'] = (df_gender['2018_Male'] / df_gender['Total_2018']) * 100\n",
        "df_gender['Female_%_2018'] = (df_gender['2018_Female'] / df_gender['Total_2018']) * 100\n",
        "\n",
        "print(\"Gender ratio by Age Group (2018):\\n\", df_gender[['Age_Group', 'Male_%_2018', 'Female_%_2018']])\n",
        "\n",
        "plt.figure(figsize=(10,5))\n",
        "plt.bar(df_gender['Age_Group'], df_gender['Male_%_2018'], label='Male %', color='royalblue')\n",
        "plt.bar(df_gender['Age_Group'], df_gender['Female_%_2018'], bottom=df_gender['Male_%_2018'], label='Female %', color='pink')\n",
        "plt.title(\"Gender Distribution by Age Group (2018) - Tamil Nadu\")\n",
        "plt.xlabel(\"Age Group\")\n",
        "plt.ylabel(\"Percentage\")\n",
        "plt.xticks(rotation=45)\n",
        "plt.legend()\n",
        "plt.tight_layout()\n",
        "plt.show()"
      ]
    }
  ],
  "metadata": {
    "colab": {
      "provenance": []
    },
    "kernelspec": {
      "display_name": "Python 3",
      "name": "python3"
    },
    "language_info": {
      "name": "python"
    }
  },
  "nbformat": 4,
  "nbformat_minor": 0
}
